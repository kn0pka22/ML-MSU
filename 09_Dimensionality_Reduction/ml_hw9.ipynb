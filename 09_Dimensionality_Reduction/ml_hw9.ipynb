{
 "cells": [
  {
   "cell_type": "markdown",
   "id": "caa2fb3e",
   "metadata": {},
   "source": [
    "# Задание P1: Эффективная размерность\n",
    "\n",
    "## Описание задачи\n",
    "\n",
    "В этом задании вам предстоит реализовать метод \"крутого склона\" для определения оптимальной размерности данных при использовании PCA (метода главных компонент).\n",
    "\n",
    "## Теоретическая основа\n",
    "\n",
    "1. **PCA и сингулярные значения**:\n",
    "   - Работаем с сингулярными значениями σ₁ ≥ σ₂ ≥ ... ≥ σₙ матрицы признакового описания X\n",
    "   - Эти значения получаются через SVD-разложение: `u, s, vh = np.linalg.svd(X)`, где `s` содержит сингулярные значения\n",
    "\n",
    "2. **Метод крутого склона**:\n",
    "   - Определяем характеристику:  \n",
    "     $$E_m = \\frac{\\sigma_{m+1} + ... + \\sigma_n}{\\sigma_1 + ... + \\sigma_n}$$\n",
    "   - Ищем точку резкого уменьшения Eₘ (крутой спад на графике)\n",
    "\n",
    "## Постановка задачи\n",
    "\n",
    "1. Загрузите данные из файла (используйте `np.load`)\n",
    "2. Реализуйте функцию Eₘ, вычисляющую указанную характеристику\n",
    "3. Найдите минимальное m, при котором Eₘ < 0.2\n",
    "   - Учтите, что m начинается с 1 (не с 0)\n",
    "\n",
    "## Технические детали\n",
    "\n",
    "- Для SVD-разложения используйте `numpy.linalg.svd()`\n",
    "- Функция возвращает 3 значения: `u, s, vh`, где `s` - массив сингулярных чисел\n",
    "- Исходная матрица представлена в классическом виде (по строкам)\n",
    "\n",
    "\n",
    "## Примечания\n",
    "\n",
    "1. Метод основан на предположении о линейности данных\n",
    "2. Порог 0.2 можно регулировать в зависимости от задачи\n",
    "3. Для визуализации можно построить график Eₘ(m)"
   ]
  },
  {
   "cell_type": "code",
   "execution_count": null,
   "id": "130fbd0b",
   "metadata": {},
   "outputs": [
    {
     "data": {
      "text/plain": [
       "array([[ 1.09706398, -2.07333501,  1.26993369, ..., -1.56846633,\n",
       "        -2.30360062, -2.75062224],\n",
       "       [ 1.82982061, -0.35363241,  1.68595471, ...,  0.82696245,\n",
       "        -1.53512599,  0.24388967],\n",
       "       [ 1.57988811,  0.45618695,  1.56650313, ..., -0.94221044,\n",
       "        -1.34747521, -1.152255  ],\n",
       "       ...,\n",
       "       [ 0.70228425,  2.0455738 ,  0.67267578, ...,  0.84048388,\n",
       "        -0.57900058,  1.10454895],\n",
       "       [ 1.83834103,  2.33645719,  1.98252415, ..., -1.52576706,\n",
       "        -2.30360062, -1.91908301],\n",
       "       [-1.80840125,  1.22179204, -1.81438851, ...,  3.11208479,\n",
       "         1.43273495,  0.04813821]])"
      ]
     },
     "execution_count": 3,
     "metadata": {},
     "output_type": "execute_result"
    }
   ],
   "source": []
  },
  {
   "cell_type": "code",
   "execution_count": 9,
   "id": "81df5af5",
   "metadata": {},
   "outputs": [
    {
     "name": "stdout",
     "output_type": "stream",
     "text": [
      "12\n"
     ]
    }
   ],
   "source": [
    "import numpy as np\n",
    "# from sklearn.svm import SVC\n",
    "\n",
    "data = np.load(\"PCA.npy\")\n",
    "MAXITER = 100\n",
    "\n",
    "def EmSearch(sigmas):\n",
    "    denom = sigmas.sum()\n",
    "    m = 1  # начинаем с 1, так как m — номер, а не индекс\n",
    "    while True:\n",
    "        if m >= len(sigmas): \n",
    "            return m\n",
    "        nom = sigmas[m:].sum()  # сумма от σₘ₊₁ до конца\n",
    "        Em = nom / denom\n",
    "        if Em < 0.2:\n",
    "            return m\n",
    "        m += 1\n",
    "\n",
    "    \n",
    "\n",
    "U, D, V = np.linalg.svd(data)\n",
    "print(EmSearch(D))\n"
   ]
  },
  {
   "cell_type": "markdown",
   "id": "a515eaf3",
   "metadata": {},
   "source": [
    "# P2. PCA\n",
    "\n",
    "На лекции вы узнали об одном из самых сильных и часто используемых методов понижения размерности — [методе главных компонент](https://colab.research.google.com/drive/1ldt1uUd8bJwiuUHrp2xmTKjELYVLcdzZ#scrollTo=mAiVLZc6zFCd) (Principal Components Analysis, PCA).  \n",
    "В этом задании вам предстоит воспользоваться реализацией этого метода из стандартных библиотек. Мы предлагаем использовать класс `sklearn.decomposition.PCA`.\n",
    "\n",
    "## Задача\n",
    "Найти оптимальное количество компонент, которое максимизирует качество решения задачи многоклассовой классификации на датасете MNIST при помощи логистической регрессии.\n",
    "\n",
    "### Условия:\n",
    "- Использовать `random_state=42`.\n",
    "- Применить `StandardScaler` **перед** PCA.\n",
    "- Определить оптимальную размерность из списка: `[1, 3, 5, 10, 15, 20, 30, 40, 50, 60]`.\n",
    "- Критерий оптимальности — максимальная `accuracy_score` на тестовой выборке.\n",
    "- Если несколько значений `n_components` дают одинаковую точность, выбрать минимальное.\n",
    "\n",
    "### Требования к реализации:\n",
    "1. **Предобработка данных:**\n",
    "   - Разбить данные на train/test с помощью `train_test_split` (соотношение указано в ноутбуке).\n",
    "   - `StandardScaler` обучается **только** на `X_train`, к `X_test` применяется только `.transform()`.\n",
    "\n",
    "2. **Классификация:**\n",
    "   - Использовать логистическую регрессию.\n",
    "   - Оценивать качество через `sklearn.metrics.accuracy_score`.\n",
    "\n",
    "3. **Важные замечания:**\n",
    "   - Test-данные **не должны** участвовать в обучении (`StandardScaler`, `PCA`, модель).\n",
    "   - Если возникает ошибка загрузки MNIST, выполнить:\n",
    "     ```python\n",
    "     import ssl\n",
    "     ssl._create_default_https_context = ssl._create_unverified_context\n",
    "     ```\n",
    "   - **Не использовать t-SNE** — задача только про PCA."
   ]
  },
  {
   "cell_type": "markdown",
   "id": "63999314",
   "metadata": {},
   "source": [
    "# 8.2. PCA\n",
    "\n",
    "На лекции вы узнали об одном из самых сильных и часто используемых методов понижения размерности - [методе главных компонент](https://colab.research.google.com/drive/1ldt1uUd8bJwiuUHrp2xmTKjELYVLcdzZ#scrollTo=mAiVLZc6zFCd) (Principal Components Analysis, PCA).\n",
    "\n",
    "В этом задании вам предстоит воспользоваться реализацией этого метода из стандартных библиотек. Мы предлагаем вам использовать класс [`sklearn.decomposition.PCA`](https://scikit-learn.org/stable/modules/generated/sklearn.decomposition.PCA.html).\n",
    "\n",
    "Ваша задача найти оптимальное количество компонент, которое нужно для максимизации качества решения задачи многоклассовой классификации на основе датасета `MNIST` при помощи **логистической регрессии**.\n",
    "\n",
    "\n",
    "Для решения задачи мы возьмём только 2000 первых картинок. Это количество оптимально с точки зрения времени решения задачи и возможностей алгоритма. Просим Вас не изменять это значение, поскольку это может привести к изменению ответа."
   ]
  },
  {
   "cell_type": "code",
   "execution_count": 15,
   "id": "87b76af9",
   "metadata": {},
   "outputs": [
    {
     "data": {
      "image/png": "[encoded data removed]",
      "text/plain": [
       "<Figure size 2000x400 with 5 Axes>"
      ]
     },
     "metadata": {},
     "output_type": "display_data"
    }
   ],
   "source": [
    "# JUST RUN THIS CELL\n",
    "from sklearn.datasets import fetch_openml\n",
    "import numpy as np \n",
    "import matplotlib.pyplot as plt\n",
    "np.random.seed(42)\n",
    "\n",
    "mnist = fetch_openml('mnist_784')\n",
    "\n",
    "X = mnist.data.to_numpy()\n",
    "y = mnist.target.to_numpy()\n",
    "\n",
    "X = X[:2000]\n",
    "y = y[:2000]\n",
    "\n",
    "plt.figure(figsize=(20,4))\n",
    "for index, (image, label) in enumerate(zip(X[0:5], y[0:5])):\n",
    " plt.subplot(1, 5, index + 1)\n",
    " plt.imshow(np.reshape(image, (28,28)), cmap=plt.cm.gray)\n",
    " plt.title('Training: %s\\n' % label, fontsize = 20)"
   ]
  },
  {
   "cell_type": "markdown",
   "id": "3373b075",
   "metadata": {},
   "source": [
    "Ваша задача - определить какая размерность PCA из `[1,3,5,10,15,20,30,40,50,60]` оптимальна для решения задачи классификации. Обязательно установите параметр max_iter=500 при создании объекта класса `sklearn.linear_model.LogisticRegression`.\n",
    "\n",
    "В тестовую выборку отправьте 30% объектов. В качестве random_state используйте число 42 везде, где это необходимо."
   ]
  },
  {
   "cell_type": "code",
   "execution_count": 13,
   "id": "876b4a88",
   "metadata": {},
   "outputs": [],
   "source": [
    "N_COMPONENTS = [1,3,5,10,15,20,30,40,50,60]"
   ]
  },
  {
   "cell_type": "code",
   "execution_count": 16,
   "id": "c9e3bd43",
   "metadata": {},
   "outputs": [
    {
     "name": "stdout",
     "output_type": "stream",
     "text": [
      "Optimal number of components: 20\n",
      "Best accuracy: 0.8567\n"
     ]
    }
   ],
   "source": [
    "from sklearn.model_selection import train_test_split\n",
    "from sklearn.preprocessing import StandardScaler\n",
    "from sklearn.decomposition import PCA\n",
    "from sklearn.linear_model import LogisticRegression\n",
    "from sklearn.metrics import accuracy_score\n",
    "\n",
    "# Split data into train and test sets (70% train, 30% test)\n",
    "X_train, X_test, y_train, y_test = train_test_split(X, y, test_size=0.3, random_state=42)\n",
    "\n",
    "# Standardize the data\n",
    "scaler = StandardScaler()\n",
    "X_train_scaled = scaler.fit_transform(X_train)\n",
    "X_test_scaled = scaler.transform(X_test)\n",
    "\n",
    "\n",
    "best_accuracy = 0\n",
    "best_n_components = None\n",
    "\n",
    "for n in N_COMPONENTS:\n",
    "    # Apply PCA\n",
    "    pca = PCA(n_components=n, random_state=42)\n",
    "    X_train_pca = pca.fit_transform(X_train_scaled)\n",
    "    X_test_pca = pca.transform(X_test_scaled)\n",
    "    \n",
    "    # Train logistic regression\n",
    "    logreg = LogisticRegression(max_iter=500, random_state=42)\n",
    "    logreg.fit(X_train_pca, y_train)\n",
    "    \n",
    "    # Evaluate on test set\n",
    "    y_pred = logreg.predict(X_test_pca)\n",
    "    accuracy = accuracy_score(y_test, y_pred)\n",
    "    \n",
    "    # Update best result\n",
    "    if accuracy > best_accuracy or (accuracy == best_accuracy and n < best_n_components):\n",
    "        best_accuracy = accuracy\n",
    "        best_n_components = n\n",
    "\n",
    "print(f\"Optimal number of components: {best_n_components}\")\n",
    "print(f\"Best accuracy: {best_accuracy:.4f}\")"
   ]
  },
  {
   "cell_type": "code",
   "execution_count": null,
   "id": "430c16dc",
   "metadata": {},
   "outputs": [],
   "source": []
  }
 ],
 "metadata": {
  "kernelspec": {
   "display_name": "vega",
   "language": "python",
   "name": "python3"
  },
  "language_info": {
   "codemirror_mode": {
    "name": "ipython",
    "version": 3
   },
   "file_extension": ".py",
   "mimetype": "text/x-python",
   "name": "python",
   "nbconvert_exporter": "python",
   "pygments_lexer": "ipython3",
   "version": "3.9.6"
  }
 },
 "nbformat": 4,
 "nbformat_minor": 5
}
