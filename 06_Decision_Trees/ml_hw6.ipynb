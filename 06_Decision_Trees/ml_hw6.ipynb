{
 "cells": [
  {
   "cell_type": "markdown",
   "id": "bc51a72c",
   "metadata": {},
   "source": [
    "# 5.1. Параметры\n",
    "\n",
    "Ваша задача - обучить классификатор на стандартном датасете Ирисов Фишера решать задачу предсказания сорта цветка по описанию 4 его параметров.\n",
    "\n",
    "Ваша задача - дополнить приведённый ниже код таким образом, чтобы конфигурация обучения была следующей:\n",
    "\n",
    "1) В тренировочную выборку должно быть включено 60% всех объектов, выбранных из датасета случайным образом (поскольку датасет очень простой для обучения модели, 60% тренировочных объектов более, чем достаточно)\n",
    "\n",
    "2) Максимальная глубина построенного дерева не должна превышать 3\n",
    "\n",
    "3) В качестве критерия ветвления используйте критерий Джини\n",
    "\n",
    "4) Random state и random seed установите равными 42\n",
    "\n",
    "В качестве ответа к задаче укажите оценку качества классификации на тестовой выборке при помощи accuracy_score. Ответ округлите **вниз** до сотых. Разделитель дробной и целой части в ответе - **точка**."
   ]
  },
  {
   "cell_type": "code",
   "execution_count": 38,
   "id": "df7a5a83",
   "metadata": {},
   "outputs": [
    {
     "name": "stdout",
     "output_type": "stream",
     "text": [
      "acc = 0.98\n"
     ]
    }
   ],
   "source": [
    "import pandas as pd\n",
    "import numpy as np\n",
    "from math import floor\n",
    "\n",
    "np.random.seed(42)\n",
    "\n",
    "\n",
    "from sklearn.tree import DecisionTreeClassifier\n",
    "from sklearn.model_selection import train_test_split\n",
    "from sklearn.metrics import accuracy_score\n",
    "\n",
    "from sklearn.datasets import load_iris\n",
    "\n",
    "X, y = load_iris(return_X_y=True)\n",
    "\n",
    "X_train, x_test, y_train, y_test = train_test_split(X, y, train_size = 0.6, shuffle = True, random_state=42)\n",
    "clf = DecisionTreeClassifier(criterion=\"gini\", max_depth=3, random_state = 42)\n",
    "\n",
    "clf.fit(X_train, y_train)\n",
    "preds = clf.predict(x_test)\n",
    "\n",
    "acc = accuracy_score(y_test, preds)\n",
    "\n",
    "print(f\"acc = {floor(acc * 100) / 100}\")\n"
   ]
  },
  {
   "cell_type": "markdown",
   "id": "20d22755",
   "metadata": {},
   "source": [
    "## Примечания\n",
    "\n",
    "1. Для округления можно использовать одну из операций: round(), floor() (подумайте, какая операция здесь подходит лучше). Также можно использовать форматированный вывод и f-строки.\n",
    "\n",
    "2. Обратите внимание на соотношение тренировочной и тестовой выборки (оно указано в условии задачи)."
   ]
  },
  {
   "cell_type": "markdown",
   "id": "85147aac",
   "metadata": {},
   "source": [
    "# P2. Лучшая комбинация\n",
    "\n",
    "Ваша задача — обучить стандартный регрессор на основе решающего дерева для предсказания стоимости бриллианта по набору его признаков, к которым относятся: число карат, цвет, чистота, геометрические размеры и т.п.\n",
    "\n",
    "## Предобработка данных\n",
    "\n",
    "1. **Удалите ненужную колонку**, дублирующую индекс.\n",
    "2. **Преобразуйте все данные к числовому типу** (если это необходимо).\n",
    "3. **Используйте One-hot encoder** для преобразования категориальных признаков. Категориальными признаками в данном случае служат признаки \"cut\", \"color\" и \"clarity\".\n",
    "4. **Перемешайте выборку** при помощи функции `sklearn.utils.shuffle` с `random_state=42`.\n",
    "\n",
    "## Гиперпараметры для тестирования\n",
    "\n",
    "Выберите лучшую комбинацию гиперпараметров из предложенных:\n",
    "\n",
    "1. Критерий ветвления: `squared_error`, глубина дерева: `12`\n",
    "2. Критерий ветвления: `friedman_mse`, глубина дерева: `16`\n",
    "3. Критерий ветвления: `poisson`, глубина дерева: `22`\n",
    "4. Критерий ветвления: `squared_error`, глубина дерева: `45`\n",
    "5. Критерий ветвления: `friedman_mse`, глубина дерева: `95`\n",
    "6. Критерий ветвления: `poisson`, глубина дерева: `33`\n",
    "\n",
    "Лучшим будет тот критерий, который покажет наилучшее среднее качество с точки зрения метрики \\( R^2 \\) при кросс-валидации с `cv=10`. Установите `random_state` и `random_seed` равными `42`.\n",
    "\n",
    "## Примечания\n",
    "\n",
    "- Общий алгоритм для преобразования строковых значений в числовые: выделите множество всех уникальных значений для каждой колонки, а затем воспользуйтесь функцией `.replace()` объекта `pandas.DataFrame` для замены строчных значений на числовые.\n",
    "- Более правильный способ сделать это — воспользоваться классом `sklearn.preprocessing.LabelEncoder`. Мы рекомендуем использовать именно `LabelEncoder`."
   ]
  },
  {
   "cell_type": "code",
   "execution_count": 39,
   "id": "6e4b1bc7",
   "metadata": {},
   "outputs": [],
   "source": [
    "import pandas as pd\n",
    "from sklearn.preprocessing import OneHotEncoder\n",
    "from sklearn.utils import shuffle\n",
    "from sklearn.tree import DecisionTreeClassifier\n",
    "\n",
    "\n",
    "\n"
   ]
  },
  {
   "cell_type": "code",
   "execution_count": null,
   "id": "7f85528e",
   "metadata": {},
   "outputs": [
    {
     "ename": "ValueError",
     "evalue": "Shape of passed values is (53940, 1), indices imply (53940, 20)",
     "output_type": "error",
     "traceback": [
      "\u001b[0;31m---------------------------------------------------------------------------\u001b[0m",
      "\u001b[0;31mValueError\u001b[0m                                Traceback (most recent call last)",
      "Cell \u001b[0;32mIn[41], line 13\u001b[0m\n\u001b[1;32m      9\u001b[0m encoded_features \u001b[38;5;241m=\u001b[39m one_hot_encoder\u001b[38;5;241m.\u001b[39mfit_transform(df[categorical_features])\n\u001b[1;32m     10\u001b[0m feature_names \u001b[38;5;241m=\u001b[39m one_hot_encoder\u001b[38;5;241m.\u001b[39mget_feature_names_out(categorical_features)\u001b[38;5;241m.\u001b[39mtolist()\n\u001b[0;32m---> 13\u001b[0m encoded_df \u001b[38;5;241m=\u001b[39m \u001b[43mpd\u001b[49m\u001b[38;5;241;43m.\u001b[39;49m\u001b[43mDataFrame\u001b[49m\u001b[43m(\u001b[49m\u001b[43mencoded_features\u001b[49m\u001b[43m,\u001b[49m\u001b[43m \u001b[49m\u001b[43mcolumns\u001b[49m\u001b[38;5;241;43m=\u001b[39;49m\u001b[43mfeature_names\u001b[49m\u001b[43m)\u001b[49m\n\u001b[1;32m     14\u001b[0m df \u001b[38;5;241m=\u001b[39m pd\u001b[38;5;241m.\u001b[39mconcat([df\u001b[38;5;241m.\u001b[39mdrop(categorical_features, axis\u001b[38;5;241m=\u001b[39m\u001b[38;5;241m1\u001b[39m), encoded_df], axis\u001b[38;5;241m=\u001b[39m\u001b[38;5;241m1\u001b[39m)\n\u001b[1;32m     15\u001b[0m df \u001b[38;5;241m=\u001b[39m shuffle(df, random_state\u001b[38;5;241m=\u001b[39m\u001b[38;5;241m42\u001b[39m)\n",
      "File \u001b[0;32m~/Desktop/venv/vega/lib/python3.9/site-packages/pandas/core/frame.py:867\u001b[0m, in \u001b[0;36mDataFrame.__init__\u001b[0;34m(self, data, index, columns, dtype, copy)\u001b[0m\n\u001b[1;32m    859\u001b[0m         mgr \u001b[38;5;241m=\u001b[39m arrays_to_mgr(\n\u001b[1;32m    860\u001b[0m             arrays,\n\u001b[1;32m    861\u001b[0m             columns,\n\u001b[0;32m   (...)\u001b[0m\n\u001b[1;32m    864\u001b[0m             typ\u001b[38;5;241m=\u001b[39mmanager,\n\u001b[1;32m    865\u001b[0m         )\n\u001b[1;32m    866\u001b[0m     \u001b[38;5;28;01melse\u001b[39;00m:\n\u001b[0;32m--> 867\u001b[0m         mgr \u001b[38;5;241m=\u001b[39m \u001b[43mndarray_to_mgr\u001b[49m\u001b[43m(\u001b[49m\n\u001b[1;32m    868\u001b[0m \u001b[43m            \u001b[49m\u001b[43mdata\u001b[49m\u001b[43m,\u001b[49m\n\u001b[1;32m    869\u001b[0m \u001b[43m            \u001b[49m\u001b[43mindex\u001b[49m\u001b[43m,\u001b[49m\n\u001b[1;32m    870\u001b[0m \u001b[43m            \u001b[49m\u001b[43mcolumns\u001b[49m\u001b[43m,\u001b[49m\n\u001b[1;32m    871\u001b[0m \u001b[43m            \u001b[49m\u001b[43mdtype\u001b[49m\u001b[38;5;241;43m=\u001b[39;49m\u001b[43mdtype\u001b[49m\u001b[43m,\u001b[49m\n\u001b[1;32m    872\u001b[0m \u001b[43m            \u001b[49m\u001b[43mcopy\u001b[49m\u001b[38;5;241;43m=\u001b[39;49m\u001b[43mcopy\u001b[49m\u001b[43m,\u001b[49m\n\u001b[1;32m    873\u001b[0m \u001b[43m            \u001b[49m\u001b[43mtyp\u001b[49m\u001b[38;5;241;43m=\u001b[39;49m\u001b[43mmanager\u001b[49m\u001b[43m,\u001b[49m\n\u001b[1;32m    874\u001b[0m \u001b[43m        \u001b[49m\u001b[43m)\u001b[49m\n\u001b[1;32m    875\u001b[0m \u001b[38;5;28;01melse\u001b[39;00m:\n\u001b[1;32m    876\u001b[0m     mgr \u001b[38;5;241m=\u001b[39m dict_to_mgr(\n\u001b[1;32m    877\u001b[0m         {},\n\u001b[1;32m    878\u001b[0m         index,\n\u001b[0;32m   (...)\u001b[0m\n\u001b[1;32m    881\u001b[0m         typ\u001b[38;5;241m=\u001b[39mmanager,\n\u001b[1;32m    882\u001b[0m     )\n",
      "File \u001b[0;32m~/Desktop/venv/vega/lib/python3.9/site-packages/pandas/core/internals/construction.py:336\u001b[0m, in \u001b[0;36mndarray_to_mgr\u001b[0;34m(values, index, columns, dtype, copy, typ)\u001b[0m\n\u001b[1;32m    331\u001b[0m \u001b[38;5;66;03m# _prep_ndarraylike ensures that values.ndim == 2 at this point\u001b[39;00m\n\u001b[1;32m    332\u001b[0m index, columns \u001b[38;5;241m=\u001b[39m _get_axes(\n\u001b[1;32m    333\u001b[0m     values\u001b[38;5;241m.\u001b[39mshape[\u001b[38;5;241m0\u001b[39m], values\u001b[38;5;241m.\u001b[39mshape[\u001b[38;5;241m1\u001b[39m], index\u001b[38;5;241m=\u001b[39mindex, columns\u001b[38;5;241m=\u001b[39mcolumns\n\u001b[1;32m    334\u001b[0m )\n\u001b[0;32m--> 336\u001b[0m \u001b[43m_check_values_indices_shape_match\u001b[49m\u001b[43m(\u001b[49m\u001b[43mvalues\u001b[49m\u001b[43m,\u001b[49m\u001b[43m \u001b[49m\u001b[43mindex\u001b[49m\u001b[43m,\u001b[49m\u001b[43m \u001b[49m\u001b[43mcolumns\u001b[49m\u001b[43m)\u001b[49m\n\u001b[1;32m    338\u001b[0m \u001b[38;5;28;01mif\u001b[39;00m typ \u001b[38;5;241m==\u001b[39m \u001b[38;5;124m\"\u001b[39m\u001b[38;5;124marray\u001b[39m\u001b[38;5;124m\"\u001b[39m:\n\u001b[1;32m    339\u001b[0m     \u001b[38;5;28;01mif\u001b[39;00m \u001b[38;5;28missubclass\u001b[39m(values\u001b[38;5;241m.\u001b[39mdtype\u001b[38;5;241m.\u001b[39mtype, \u001b[38;5;28mstr\u001b[39m):\n",
      "File \u001b[0;32m~/Desktop/venv/vega/lib/python3.9/site-packages/pandas/core/internals/construction.py:420\u001b[0m, in \u001b[0;36m_check_values_indices_shape_match\u001b[0;34m(values, index, columns)\u001b[0m\n\u001b[1;32m    418\u001b[0m passed \u001b[38;5;241m=\u001b[39m values\u001b[38;5;241m.\u001b[39mshape\n\u001b[1;32m    419\u001b[0m implied \u001b[38;5;241m=\u001b[39m (\u001b[38;5;28mlen\u001b[39m(index), \u001b[38;5;28mlen\u001b[39m(columns))\n\u001b[0;32m--> 420\u001b[0m \u001b[38;5;28;01mraise\u001b[39;00m \u001b[38;5;167;01mValueError\u001b[39;00m(\u001b[38;5;124mf\u001b[39m\u001b[38;5;124m\"\u001b[39m\u001b[38;5;124mShape of passed values is \u001b[39m\u001b[38;5;132;01m{\u001b[39;00mpassed\u001b[38;5;132;01m}\u001b[39;00m\u001b[38;5;124m, indices imply \u001b[39m\u001b[38;5;132;01m{\u001b[39;00mimplied\u001b[38;5;132;01m}\u001b[39;00m\u001b[38;5;124m\"\u001b[39m)\n",
      "\u001b[0;31mValueError\u001b[0m: Shape of passed values is (53940, 1), indices imply (53940, 20)"
     ]
    }
   ],
   "source": [
    "df = pd.read_csv(\"TRAIN.csv\")\n",
    "# df.drop?\n",
    "df = df.drop(df.columns[0], axis=1)\n",
    "\n",
    "categorical_features = np.array(['cut', 'color', 'clarity'])\n",
    "\n",
    "one_hot_encoder = OneHotEncoder(handle_unknown='ignore')\n",
    "# one_hot_encoder.fit(df[categorical_features].reshape(-1, 1))\n",
    "encoded_features = one_hot_encoder.fit_transform(df[categorical_features])\n",
    "feature_names = one_hot_encoder.get_feature_names_out(categorical_features)\n",
    "\n",
    "\n",
    "encoded_df = pd.DataFrame(encoded_features, columns=feature_names)\n",
    "df = pd.concat([df.drop(categorical_features, axis=1), encoded_df], axis=1)\n",
    "df = shuffle(df, random_state=42)\n",
    "\n"
   ]
  },
  {
   "cell_type": "code",
   "execution_count": null,
   "id": "687e3f7f",
   "metadata": {},
   "outputs": [],
   "source": [
    "# Разделение данных на признаки и целевую переменную\n",
    "X = df.drop('price', axis=1)\n",
    "y = df['price']\n",
    "\n",
    "# Гиперпараметры для тестирования\n",
    "param_combinations = [\n",
    "    ('squared_error', 12),\n",
    "    ('friedman_mse', 16),\n",
    "    ('poisson', 22),\n",
    "    ('squared_error', 45),\n",
    "    ('friedman_mse', 95),\n",
    "    ('poisson', 33)\n",
    "]\n",
    "\n",
    "best_score = -1\n",
    "best_params = None\n",
    "\n",
    "for criterion, max_depth in param_combinations:\n",
    "    reg = DecisionTreeRegressor(criterion=criterion, max_depth=max_depth, random_state=42)\n",
    "    scores = cross_val_score(reg, X, y, cv=10, scoring='r2')\n",
    "    mean_score = np.mean(scores)\n",
    "\n",
    "    if mean_score > best_score:\n",
    "        best_score = mean_score\n",
    "        best_params = (criterion, max_depth)\n",
    "\n",
    "print(f\"Лучшая комбинация гиперпараметров: критерий = {best_params[0]}, макс. глубина = {best_params[1]}\")\n",
    "print(f\"Среднее значение метрики R^2: {best_score:.2f}\")"
   ]
  },
  {
   "cell_type": "code",
   "execution_count": 42,
   "id": "f0dc695d",
   "metadata": {},
   "outputs": [
    {
     "name": "stdout",
     "output_type": "stream",
     "text": [
      "Лучшая комбинация гиперпараметров: критерий = squared_error, макс. глубина = 12\n",
      "Среднее значение метрики R^2: 0.97\n"
     ]
    }
   ],
   "source": [
    "import pandas as pd\n",
    "import numpy as np\n",
    "from sklearn.preprocessing import OneHotEncoder\n",
    "from sklearn.utils import shuffle\n",
    "from sklearn.model_selection import cross_val_score\n",
    "from sklearn.tree import DecisionTreeRegressor\n",
    "\n",
    "# Загрузка данных\n",
    "df = pd.read_csv(\"TRAIN.csv\")\n",
    "\n",
    "# Удаление ненужной колонки, дублирующей индекс\n",
    "df = df.drop(df.columns[0], axis=1)\n",
    "\n",
    "# Преобразование категориальных признаков с помощью OneHotEncoder\n",
    "categorical_features = ['cut', 'color', 'clarity']\n",
    "one_hot_encoder = OneHotEncoder(handle_unknown='ignore', sparse_output=False)\n",
    "encoded_features = one_hot_encoder.fit_transform(df[categorical_features])\n",
    "feature_names = one_hot_encoder.get_feature_names_out(categorical_features).tolist()\n",
    "\n",
    "# Создание нового DataFrame с закодированными признаками\n",
    "encoded_df = pd.DataFrame(encoded_features, columns=feature_names)\n",
    "\n",
    "# Удаление исходных категориальных признаков и добавление закодированных\n",
    "df = df.drop(categorical_features, axis=1)\n",
    "df = pd.concat([df, encoded_df], axis=1)\n",
    "\n",
    "# Перемешивание выборки\n",
    "df = shuffle(df, random_state=42)\n",
    "\n",
    "# Разделение данных на признаки и целевую переменную\n",
    "X = df.drop('price', axis=1)\n",
    "y = df['price']\n",
    "\n",
    "# Гиперпараметры для тестирования\n",
    "param_combinations = [\n",
    "    ('squared_error', 12),\n",
    "    ('friedman_mse', 16),\n",
    "    ('poisson', 22),\n",
    "    ('squared_error', 45),\n",
    "    ('friedman_mse', 95),\n",
    "    ('poisson', 33)\n",
    "]\n",
    "\n",
    "# Поиск лучшей комбинации гиперпараметров\n",
    "best_score = -np.inf\n",
    "best_params = None\n",
    "\n",
    "for criterion, max_depth in param_combinations:\n",
    "    reg = DecisionTreeRegressor(criterion=criterion, max_depth=max_depth, random_state=42)\n",
    "    scores = cross_val_score(reg, X, y, cv=10, scoring='r2')\n",
    "    mean_score = np.mean(scores)\n",
    "\n",
    "    if mean_score > best_score:\n",
    "        best_score = mean_score\n",
    "        best_params = (criterion, max_depth)\n",
    "\n",
    "print(f\"Лучшая комбинация гиперпараметров: критерий = {best_params[0]}, макс. глубина = {best_params[1]}\")\n",
    "print(f\"Среднее значение метрики R^2: {best_score:.2f}\")\n"
   ]
  },
  {
   "cell_type": "code",
   "execution_count": null,
   "id": "041e412f",
   "metadata": {},
   "outputs": [],
   "source": []
  }
 ],
 "metadata": {
  "kernelspec": {
   "display_name": "vega",
   "language": "python",
   "name": "python3"
  },
  "language_info": {
   "codemirror_mode": {
    "name": "ipython",
    "version": 3
   },
   "file_extension": ".py",
   "mimetype": "text/x-python",
   "name": "python",
   "nbconvert_exporter": "python",
   "pygments_lexer": "ipython3",
   "version": "3.9.6"
  }
 },
 "nbformat": 4,
 "nbformat_minor": 5
}
