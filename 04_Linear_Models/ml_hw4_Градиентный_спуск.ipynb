{
  "cells": [
    {
      "cell_type": "markdown",
      "metadata": {
        "id": "zVKa9zcWdm-p"
      },
      "source": [
        "# 3.1 Градиентный спуск\n",
        "\n",
        "В этом задании нам предстоит реализовать классический алгоритм градиентного спуска для обучения модели логистической регрессии.\n",
        "\n",
        "Алгоритм выполнения этого задания следующий:\n",
        "\n",
        "* На основе частных производных, посчитанных на лекции, напишем функцию подсчета градиента бинарной кросс-энтропии по параметрам модели\n",
        "\n",
        "* Напишем функцию обновления весов по посчитанным градиентам\n",
        "\n",
        "* Напишем функцию тренировки модели\n",
        "\n",
        "Замечание:\n",
        "Тренировка модели проводится в несколько циклов, в рамках каждого из которых мы обновим веса модели, основываясь на предсказании для **каждого** объекта из датасета. Такие циклы называются *эпохами*. То есть одна эпоха - это набор обновлений весов, реализованный согласно посчитанным для каждого объекта из датасета ошибкам модели.\n",
        "\n",
        "Вам необходимо реализовать обучение модели в несколько эпох. Их количество задается параметром функции. В рамках каждой эпохи необходимо пройти циклом по всем объектам обучающей выборки и обновить веса модели."
      ]
    },
    {
      "cell_type": "markdown",
      "metadata": {
        "id": "zrTqdyBid_G8"
      },
      "source": [
        "Шаблон кода для заполнения:"
      ]
    },
    {
      "cell_type": "code",
      "execution_count": 17,
      "metadata": {
        "id": "CCM4EIh_d8-n"
      },
      "outputs": [],
      "source": [
        "import numpy as np\n",
        "\n",
        "np.random.seed(42)\n",
        "\n",
        "def gradient(y_true: int, y_pred: float, x: np.array) -> np.array:\n",
        "    \"\"\"\n",
        "    Вычисление градиента бинарной кросс-энтропии по параметрам модели\n",
        "    \n",
        "    Параметры:\n",
        "    y_true - истинное значение ответа (0 или 1)\n",
        "    y_pred - предсказанная вероятность принадлежности классу 1\n",
        "    x - вектор признаков объекта\n",
        "    \n",
        "    Возвращает:\n",
        "    Вектор градиента (той же размерности, что и x + 1 для свободного члена)\n",
        "    \"\"\"\n",
        "    # Добавляем 1 в начало вектора признаков для свободного члена a0\n",
        "    x_extended = np.append(x, 1)\n",
        "    # Градиент кросс-энтропии по параметрам\n",
        "    grad = (y_pred - y_true) * x_extended\n",
        "    return grad\n",
        "\n",
        "def update(alpha: np.array, gradient: np.array, lr: float) -> np.array:\n",
        "    \"\"\"\n",
        "    Обновление весов модели по градиенту\n",
        "    \n",
        "    Параметры:\n",
        "    alpha - текущие веса модели\n",
        "    gradient - вычисленный градиент\n",
        "    lr - скорость обучения\n",
        "    \n",
        "    Возвращает:\n",
        "    Новые значения весов\n",
        "    \"\"\"\n",
        "    alpha_new = alpha - lr * gradient\n",
        "    return alpha_new\n",
        "\n",
        "def train(\n",
        "    alpha0: np.array, x_train: np.array, y_train: np.array, lr: float, num_epoch: int\n",
        ") -> np.array:\n",
        "    \"\"\"\n",
        "    Обучение модели логистической регрессии методом градиентного спуска\n",
        "    \n",
        "    Параметры:\n",
        "    alpha0 - начальные веса модели\n",
        "    x_train - матрица объект-признак\n",
        "    y_train - вектор истинных ответов\n",
        "    lr - скорость обучения\n",
        "    num_epoch - количество эпох обучения\n",
        "    \n",
        "    Возвращает:\n",
        "    Обученные веса модели\n",
        "    \"\"\"\n",
        "    alpha = alpha0.copy()\n",
        "    for epo in range(num_epoch):\n",
        "        for i in range(len(x_train)):\n",
        "            x = x_train[i]\n",
        "            y_true = y_train[i]\n",
        "            \n",
        "            # Вычисляем предсказание (сигмоиду от линейной комбинации)\n",
        "            z = np.dot(alpha[:-1], x) + alpha[-1]  # alpha[-1] - свободный член\n",
        "            y_pred = 1 / (1 + np.exp(-z))\n",
        "            \n",
        "            # Вычисляем градиент\n",
        "            grad = gradient(y_true, y_pred, x)\n",
        "            \n",
        "            # Обновляем веса\n",
        "            alpha = update(alpha, grad, lr)\n",
        "            \n",
        "    return alpha"
      ]
    },
    {
      "cell_type": "markdown",
      "metadata": {
        "id": "zDcPxeLueFIk"
      },
      "source": [
        "# Замечания:\n",
        "\n",
        "1. В случае, если у Вас возникли сложности с выполнением первого задания и, как следствие, у Вас не выходит сделать это, мы рекомендуем подробно ознакомиться с главой **Производные $\\frac{\\partial H}{\\partial \\omega_i}$** нашей [лекции](https://colab.research.google.com/drive/1xjX_YnXcRr8HSiYLByMHxEIAADqs7QES?usp=sharing).\n",
        "\n",
        "2. Обращайте внимание на названия и порядок аргументов в сдаваемых на проверку функциях - они должны совпадать с тем, что указано в шаблоне кода.\n",
        "\n",
        "3. Обратите внимание, что матрица объект-признак в описании параметров функций обозначает переменную типа numpy.array(), каждый элемент которой - объект типа numpy.array() - вектор признаков соответствующего объекта.\n",
        "\n",
        "4. Считайте, что свободный коэффициент a0 находится **в конце** списка alpha."
      ]
    },
    {
      "cell_type": "markdown",
      "metadata": {},
      "source": [
        "# 4.1 Линейная регрессия\n",
        "\n",
        "Вам предложен шаблон класса LinearRegression. Реализуйте методы  .fit() и .predict() соответствующие изложенной выше модели. В рамках выполнения этого задания можно пользоваться только библиотекой numpy. Использование любых других библиотек приведёт к ошибке при проверке задания автоматизированной системой. Также мы просим Вас не менять название класса и обозначенных методов, это также приведёт к ошибке. Добавлять свои методы в класс можно.\n",
        "\n",
        "Полученные коэффициенты модели должны храниться в поле .coef_\n",
        "\n",
        "\n",
        "Шаблон класса LinearRegression приведён ниже. Заполните все необходимые пропуски и отправьте получившийся файл в яндекс.контест. Не забудьте про все необходимые импорты.\n"
      ]
    },
    {
      "cell_type": "code",
      "execution_count": 18,
      "metadata": {},
      "outputs": [],
      "source": [
        "import numpy as np\n",
        "\n",
        "np.random.seed(42)\n",
        "\n",
        "class LinearRegression:\n",
        "    def __init__(self, **kwargs):\n",
        "        self.coef_ = None  # Вектор коэффициентов (включая свободный член в конце)\n",
        "\n",
        "    def fit(self, x: np.array, y: np.array):\n",
        "        \"\"\"\n",
        "        Обучение модели линейной регрессии\n",
        "        \n",
        "        Параметры:\n",
        "        x - матрица объект-признак (n_samples, n_features)\n",
        "        y - вектор целевых значений (n_samples,)\n",
        "        \"\"\"\n",
        "        # Добавляем столбец единиц для свободного члена\n",
        "        X = np.column_stack([x, np.ones(x.shape[0])])\n",
        "        \n",
        "        # Вычисляем коэффициенты по нормальному уравнению\n",
        "        XT = X.T\n",
        "        XTX = np.dot(XT, X)\n",
        "        XTX_inv = np.linalg.inv(XTX)\n",
        "        XTy = np.dot(XT, y)\n",
        "        self.coef_ = np.dot(XTX_inv, XTy)\n",
        "\n",
        "    def predict(self, x: np.array) -> np.array:\n",
        "        \"\"\"\n",
        "        Предсказание значений по обученной модели\n",
        "        \n",
        "        Параметры:\n",
        "        x - матрица объект-признак (n_samples, n_features)\n",
        "        \n",
        "        Возвращает:\n",
        "        Вектор предсказанных значений (n_samples,)\n",
        "        \"\"\"\n",
        "        if self.coef_ is None:\n",
        "            raise ValueError(\"Model is not fitted yet. Call fit() first.\")\n",
        "            \n",
        "        # Добавляем столбец единиц для свободного члена\n",
        "        X = np.column_stack([x, np.ones(x.shape[0])])\n",
        "        return np.dot(X, self.coef_)"
      ]
    },
    {
      "cell_type": "markdown",
      "metadata": {},
      "source": [
        "## Примечания\n",
        "\n",
        "1. Не забывайте добавлять столбец единиц (он нужен для добавления смещений).\n",
        "2. При использовании различных матричных операций не забывайте проверять соответствие размерностей матриц-операндов. Не забывайте делать транспонирование там, где это требуется\n",
        "3. Обращайте внимание на названия полей (self.coef_), методов (fit, predict) и порядка их параметров в предлагаемом шаблоне (см. выше). Сдаваемый на проверку код должен соответствовать предлагаемому шаблону.\n"
      ]
    },
    {
      "cell_type": "markdown",
      "metadata": {},
      "source": [
        "## Примеры входных и выходных данных"
      ]
    },
    {
      "cell_type": "code",
      "execution_count": 19,
      "metadata": {},
      "outputs": [
        {
          "name": "stdout",
          "output_type": "stream",
          "text": [
            "[[ 0.03807591  0.05068012  0.06169621  0.02187239 -0.0442235  -0.03482076\n",
            "  -0.04340085 -0.00259226  0.01990749 -0.01764613]\n",
            " [-0.00188202 -0.04464164 -0.05147406 -0.02632753 -0.00844872 -0.01916334\n",
            "   0.07441156 -0.03949338 -0.06833155 -0.09220405]\n",
            " [ 0.08529891  0.05068012  0.04445121 -0.00567042 -0.04559945 -0.03419447\n",
            "  -0.03235593 -0.00259226  0.00286131 -0.02593034]\n",
            " [-0.08906294 -0.04464164 -0.01159501 -0.03665608  0.01219057  0.02499059\n",
            "  -0.03603757  0.03430886  0.02268774 -0.00936191]\n",
            " [ 0.00538306 -0.04464164 -0.03638469  0.02187239  0.00393485  0.01559614\n",
            "   0.00814208 -0.00259226 -0.03198764 -0.04664087]]\n"
          ]
        }
      ],
      "source": [
        "from sklearn.datasets import load_diabetes\n",
        "from sklearn.model_selection import train_test_split\n",
        "\n",
        "X, y = load_diabetes(return_X_y=True) #Этот датасет уже предобработан\n",
        "print(X[:5])"
      ]
    },
    {
      "cell_type": "code",
      "execution_count": 20,
      "metadata": {},
      "outputs": [],
      "source": [
        "# Разбиение датасета на тренировочную и тестовую часть\n",
        "X_train, x_test, y_train, y_test = train_test_split(X, y, test_size=0.3, shuffle=True, random_state=42)"
      ]
    },
    {
      "cell_type": "code",
      "execution_count": 21,
      "metadata": {},
      "outputs": [
        {
          "ename": "NameError",
          "evalue": "name 'LinReg' is not defined",
          "output_type": "error",
          "traceback": [
            "\u001b[0;31m---------------------------------------------------------------------------\u001b[0m",
            "\u001b[0;31mNameError\u001b[0m                                 Traceback (most recent call last)",
            "Cell \u001b[0;32mIn[21], line 2\u001b[0m\n\u001b[1;32m      1\u001b[0m \u001b[38;5;66;03m# Прогноз на тестовом датасете\u001b[39;00m\n\u001b[0;32m----> 2\u001b[0m predictions \u001b[38;5;241m=\u001b[39m \u001b[43mLinReg\u001b[49m\u001b[38;5;241m.\u001b[39mpredict(x_test)\n\u001b[1;32m      3\u001b[0m predictions\n",
            "\u001b[0;31mNameError\u001b[0m: name 'LinReg' is not defined"
          ]
        }
      ],
      "source": [
        "# Прогноз на тестовом датасете\n",
        "predictions = LinReg.predict(x_test)\n",
        "predictions"
      ]
    },
    {
      "cell_type": "code",
      "execution_count": null,
      "metadata": {},
      "outputs": [
        {
          "ename": "NameError",
          "evalue": "name 'predictions' is not defined",
          "output_type": "error",
          "traceback": [
            "\u001b[0;31m---------------------------------------------------------------------------\u001b[0m",
            "\u001b[0;31mNameError\u001b[0m                                 Traceback (most recent call last)",
            "Cell \u001b[0;32mIn[14], line 5\u001b[0m\n\u001b[1;32m      1\u001b[0m \u001b[38;5;66;03m# Оценка качества прогноза\u001b[39;00m\n\u001b[1;32m      3\u001b[0m \u001b[38;5;28;01mfrom\u001b[39;00m\u001b[38;5;250m \u001b[39m\u001b[38;5;21;01msklearn\u001b[39;00m\u001b[38;5;21;01m.\u001b[39;00m\u001b[38;5;21;01mmetrics\u001b[39;00m\u001b[38;5;250m \u001b[39m\u001b[38;5;28;01mimport\u001b[39;00m r2_score\n\u001b[0;32m----> 5\u001b[0m r2_score(y_test, \u001b[43mpredictions\u001b[49m)\n",
            "\u001b[0;31mNameError\u001b[0m: name 'predictions' is not defined"
          ]
        }
      ],
      "source": [
        "# Оценка качества прогноза\n",
        "\n",
        "from sklearn.metrics import r2_score\n",
        "\n",
        "r2_score(y_test, predictions)"
      ]
    },
    {
      "cell_type": "code",
      "execution_count": null,
      "metadata": {},
      "outputs": [],
      "source": []
    }
  ],
  "metadata": {
    "colab": {
      "provenance": []
    },
    "kernelspec": {
      "display_name": "vega",
      "language": "python",
      "name": "python3"
    },
    "language_info": {
      "codemirror_mode": {
        "name": "ipython",
        "version": 3
      },
      "file_extension": ".py",
      "mimetype": "text/x-python",
      "name": "python",
      "nbconvert_exporter": "python",
      "pygments_lexer": "ipython3",
      "version": "3.9.6"
    }
  },
  "nbformat": 4,
  "nbformat_minor": 0
}
