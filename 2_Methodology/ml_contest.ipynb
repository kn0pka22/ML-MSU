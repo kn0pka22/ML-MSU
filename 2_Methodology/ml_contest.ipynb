{
 "cells": [
  {
   "cell_type": "code",
   "execution_count": null,
   "metadata": {},
   "outputs": [],
   "source": []
  },
  {
   "cell_type": "markdown",
   "metadata": {},
   "source": [
    "# Задача 1. Корректная оценка\n",
    "\n",
    "В этой задаче мы предлагаем Вам заполнить пропуски в коде, чтобы реализовать следующую схему обучения модели и проверки её качества. Заполните фрагменты приведённого ниже кода так, чтобы обучение отвечало следующим параметрам:\n",
    "\n",
    "* Размер тестовой выборки = 0.3 от всей выборки\n",
    "* Включите перемешивание\n",
    "* Установите значение random_state = 42"
   ]
  },
  {
   "cell_type": "code",
   "execution_count": null,
   "metadata": {},
   "outputs": [
    {
     "data": {
      "text/plain": [
       "0.9790209790209791"
      ]
     },
     "execution_count": 9,
     "metadata": {},
     "output_type": "execute_result"
    }
   ],
   "source": [
    "from sklearn.linear_model import LogisticRegression\n",
    "from sklearn.datasets import load_breast_cancer\n",
    "from sklearn.model_selection import train_test_split \n",
    "from sklearn.preprocessing import StandardScaler # импортируйте StandardScaler из соответствующего модуля\n",
    "\n",
    "# Загрузка датасета\n",
    "X, y = load_breast_cancer(return_X_y=True)\n",
    "\n",
    "# Разбиение датасета на train и test\n",
    "X_train, x_test, y_train, y_test = train_test_split(X, y, test_size=0.25, random_state=42) #Впишите функцию с нужными параметрами. Не забывайте про random_state!#\n",
    "# Задание классификатора и его обучение\n",
    "clf = LogisticRegression()\n",
    "\n",
    "# Предобработка датасета при помощи StandardScaler\n",
    "sc = StandardScaler()\n",
    "X_train = sc.fit_transform(X_train)\n",
    "x_test = sc.transform(x_test)\n",
    "\n",
    "# Обучеение модели\n",
    "# TODO: вызовите функцию обучения модели на тренировочной выборке X_train с вектором ответов y_train\n",
    "clf.fit(X_train, y_train) #WRITE HERE#\n",
    "\n",
    "# Оценка качества получившегося решения\n",
    "clf.score(x_test, y_test)"
   ]
  },
  {
   "cell_type": "markdown",
   "metadata": {},
   "source": [
    "В качестве ответа на это задание впишите получившуюся оценку качества до второго знака после запятой включительно (то есть, если ответ 0.6572343, впишите 0.65)."
   ]
  },
  {
   "cell_type": "markdown",
   "metadata": {},
   "source": [
    "0.97"
   ]
  }
 ],
 "metadata": {
  "kernelspec": {
   "display_name": "vega",
   "language": "python",
   "name": "python3"
  },
  "language_info": {
   "codemirror_mode": {
    "name": "ipython",
    "version": 3
   },
   "file_extension": ".py",
   "mimetype": "text/x-python",
   "name": "python",
   "nbconvert_exporter": "python",
   "pygments_lexer": "ipython3",
   "version": "3.9.6"
  }
 },
 "nbformat": 4,
 "nbformat_minor": 2
}
